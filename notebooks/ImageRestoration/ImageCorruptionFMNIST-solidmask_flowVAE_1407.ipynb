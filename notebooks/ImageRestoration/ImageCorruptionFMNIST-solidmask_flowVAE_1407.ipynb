{
 "cells": [
  {
   "cell_type": "markdown",
   "metadata": {},
   "source": [
    "### Inpainting with Posterior Analysis"
   ]
  },
  {
   "cell_type": "code",
   "execution_count": 1,
   "metadata": {
    "colab": {
     "base_uri": "https://localhost:8080/",
     "height": 34
    },
    "colab_type": "code",
    "executionInfo": {
     "elapsed": 411,
     "status": "ok",
     "timestamp": 1568330149594,
     "user": {
      "displayName": "",
      "photoUrl": "",
      "userId": "18062987068597777273"
     },
     "user_tz": 420
    },
    "id": "D-Fe5G8m1FTC",
    "outputId": "481e97a2-895c-40e1-c3f8-aaac7fb27b5d"
   },
   "outputs": [
    {
     "name": "stdout",
     "output_type": "stream",
     "text": [
      "Populating the interactive namespace from numpy and matplotlib\n"
     ]
    }
   ],
   "source": [
    "import os\n",
    "%pylab inline\n",
    "import pickle"
   ]
  },
  {
   "cell_type": "code",
   "execution_count": 2,
   "metadata": {
    "colab": {},
    "colab_type": "code",
    "id": "sZkaGpCR1kVS"
   },
   "outputs": [],
   "source": [
    "PARAMS_PATH = '../../params'\n",
    "param_file = 'params_fmnist_-1_40_infoGAN_VAE_best_params_noaugment_no_dropout_flow_prior_full_sigmaVAE_beta1'\n",
    "params   = pickle.load(open(os.path.join(PARAMS_PATH,param_file+'.pkl'),'rb'))"
   ]
  },
  {
   "cell_type": "code",
   "execution_count": 3,
   "metadata": {
    "colab": {},
    "colab_type": "code",
    "id": "-AEYmOsH1FTI"
   },
   "outputs": [],
   "source": [
    "import tensorflow.compat.v1 as tf\n",
    "tf.disable_eager_execution()\n",
    "import tensorflow_probability as tfp\n",
    "import tensorflow_hub as hub\n",
    "tfd = tfp.distributions\n",
    "tfb = tfp.bijectors"
   ]
  },
  {
   "cell_type": "code",
   "execution_count": 4,
   "metadata": {
    "colab": {},
    "colab_type": "code",
    "id": "8puPFE90P0aD"
   },
   "outputs": [],
   "source": [
    "generator_path   = os.path.join(params['module_dir'],'decoder')\n",
    "encoder_path     = os.path.join(params['module_dir'],'encoder')\n",
    "nvp_path         = os.path.join(params['module_dir'],'flow')"
   ]
  },
  {
   "cell_type": "code",
   "execution_count": 5,
   "metadata": {
    "colab": {},
    "colab_type": "code",
    "id": "nFzYYSxY1FTL"
   },
   "outputs": [],
   "source": [
    "from pae.load_data import load_fmnist\n",
    "\n",
    "load_func                                         = load_fmnist\n",
    "x_train, y_train, x_valid, y_valid, x_test, y_test = load_func(params['data_dir'],flatten=False)\n",
    "\n",
    "if np.all(x_test)==None:\n",
    "    x_test=x_valid\n",
    "    \n",
    "def add_noise(x,sigma=0.1):\n",
    "    nn = np.random.normal(size=np.shape(x))\n",
    "    x  = x+nn*sigma\n",
    "    return x\n",
    "\n",
    "x_train    = add_noise(x_train)/256.-0.5\n",
    "x_test     = add_noise(x_test)/256.-0.5\n",
    "x_valid    = add_noise(x_valid)/256.-0.5"
   ]
  },
  {
   "cell_type": "code",
   "execution_count": 6,
   "metadata": {},
   "outputs": [
    {
     "data": {
      "image/png": "[encoded data removed]",
      "text/plain": [
       "<Figure size 432x288 with 1 Axes>"
      ]
     },
     "metadata": {
      "needs_background": "light"
     },
     "output_type": "display_data"
    }
   ],
   "source": [
    "for ii in [1470]:\n",
    "    plt.imshow(x_test[ii,:,:,0],'gray')\n",
    "    plt.axis('off')\n",
    "    plt.show()\n",
    "    "
   ]
  },
  {
   "cell_type": "code",
   "execution_count": 7,
   "metadata": {
    "colab": {},
    "colab_type": "code",
    "id": "ft_jIh-W1FTN"
   },
   "outputs": [
    {
     "name": "stdout",
     "output_type": "stream",
     "text": [
      "256\n"
     ]
    }
   ],
   "source": [
    "data_dim    = 28*28\n",
    "data_size   = params['batch_size']\n",
    "sigma_n     = (params['full_sigma']+1e-4).reshape((1,28*28,1)).astype(np.float32)\n",
    "noise_n     = sigma_n\n",
    "hidden_size = params['latent_size']\n",
    "n_channels  = 1\n",
    "seed        = 767\n",
    "\n",
    "print(params['batch_size'])\n",
    "\n",
    "# settings for reconstruction with uncorrupted data\n",
    "# corr_type   = 'none'\n",
    "# num_mnist   = 6\n",
    "# label       = 'uncorrupted'\n",
    "# noise_level = 0.0\n",
    "# num_comp    = 2\n",
    "\n",
    "# settings for reconstrcution with rectangular mask\n",
    "corr_type   = 'noise+mask'\n",
    "num_mnist   = 1470\n",
    "label       = 'VAE_solidmask_%d'%num_mnist\n",
    "noise_level = 0.1\n",
    "num_comp    = 32\n",
    "\n",
    "#settings for reconstruction with sparse mask \n",
    "# corr_type   = 'sparse mask'\n",
    "# num_mnist   = 1\n",
    "# label       = 'sparse95'\n",
    "# noise_level = 0.\n",
    "# num_comp    = 2\n",
    "\n",
    "# settings for reconstruction with noise\n",
    "# corr_type   = 'noise'\n",
    "# num_mnist   = 6\n",
    "# label       = 'noise05'\n",
    "# noise_level = 0.5\n",
    "# num_comp    = 4\n",
    "\n",
    "# settings for reconstruction with noise and mask\n",
    "# corr_type   = 'noise+mask'\n",
    "# num_mnist   = 6\n",
    "# label       = 'masknoise05'\n",
    "# noise_level = 0.5\n",
    "# num_comp    = 2"
   ]
  },
  {
   "cell_type": "code",
   "execution_count": null,
   "metadata": {},
   "outputs": [],
   "source": []
  },
  {
   "cell_type": "code",
   "execution_count": 8,
   "metadata": {
    "colab": {},
    "colab_type": "code",
    "id": "nxcZOE0MLGJ1",
    "tags": []
   },
   "outputs": [],
   "source": [
    "def plot_image(image, save=True, directory='./plots/',filename='plotted_image', title='image',vmin=None,vmax=None, mask=None, cmap='gray', colorbar=False):\n",
    "  \n",
    "    if np.any(mask==None):\n",
    "        mask=np.ones((28,28))\n",
    "    mask = np.reshape(mask,(28,28))\n",
    "    plt.figure()\n",
    "    plt.imshow((image).reshape((28,28))*mask,cmap=cmap,vmin=vmin, vmax=vmax)\n",
    "    plt.axis('off')\n",
    "    if colorbar:\n",
    "        plt.colorbar()\n",
    "    if save: \n",
    "        plt.savefig(directory+filename+'.pdf',bbox_inches='tight')\n",
    "    plt.show()\n",
    "  \n",
    "    return True\n",
    "\n",
    "def get_custom_noise(shape, signal_dependent=False, signal =None, sigma_low=0.07, sigma_high=0.22, threshold=0.02 ):\n",
    "  \n",
    "    sigma = sigma_n\n",
    "  \n",
    "    if signal_dependent: \n",
    "        for ii in range(data_size):\n",
    "            sigma[ii][np.where(signal[ii]<=threshold)]= sigma_low\n",
    "            sigma[ii][np.where(signal[ii]>threshold)]= sigma_high\n",
    "      \n",
    "    data_noise = np.ones_like(sigma)*noise_level\n",
    "  \n",
    "    sigma = np.sqrt(sigma**2+data_noise**2)\n",
    "  \n",
    "    return sigma\n",
    "  \n",
    "\n",
    "def make_corrupted_data(x_true, corr_type='mask'):\n",
    "  \n",
    "    mask = np.ones((28,28))\n",
    "  \n",
    "    if corr_type=='mask':\n",
    "    \n",
    "        minx = 9\n",
    "        maxx = 21\n",
    "        \n",
    "        miny = 8\n",
    "        maxy = 16\n",
    "    \n",
    "        mask[miny:maxy,minx:maxx]=0.\n",
    "    \n",
    "        corr_data = x_true*mask[None,:,:,None]\n",
    "    \n",
    "    elif corr_type=='sparse mask':\n",
    "    \n",
    "        mask    = np.ones(data_dim, dtype=int)\n",
    "        percent = 95\n",
    "        np.random.seed(seed+2)\n",
    "        indices = np.random.choice(np.arange(data_dim), replace=False,size=int(percent/100.*data_dim))\n",
    "        print('precentage masked:', len(indices)/data_dim)\n",
    "        mask[indices] =0 \n",
    "  \n",
    "        corr_data = x_true*mask[None,:,:]\n",
    "    \n",
    "    elif corr_type=='noise':\n",
    "    \n",
    "        np.random.seed(seed+2)\n",
    "        noise = np.random.randn(data_dim*data_size)*noise_level\n",
    "    \n",
    "        corr_data = x_true+noise\n",
    "    \n",
    "    elif corr_type=='noise+mask':\n",
    "        \n",
    "\n",
    "        np.random.seed(seed+2)\n",
    "        noise = np.random.randn(data_dim)*noise_level\n",
    "        noise = np.tile(noise,[data_size,1])\n",
    "        noise = noise.reshape(x_true.shape)\n",
    "        \n",
    "        minx = 9\n",
    "        maxx = 21\n",
    "\n",
    "        miny = 8\n",
    "        maxy = 16\n",
    "\n",
    "        mask[miny:maxy,minx:maxx]=0.\n",
    "\n",
    "        mask[miny:maxy,minx:maxx]=0.\n",
    "\n",
    "        corr_data = x_true+noise\n",
    "        corr_data = corr_data*mask[None,:,:,None]\n",
    "    \n",
    "    elif corr_type=='none':\n",
    "\n",
    "        corr_data = x_true\n",
    "\n",
    "        corr_data = np.expand_dims(corr_data,-1)\n",
    "\n",
    "        mask = mask.flatten()\n",
    "\n",
    "    return corr_data, mask"
   ]
  },
  {
   "cell_type": "code",
   "execution_count": 9,
   "metadata": {},
   "outputs": [
    {
     "data": {
      "image/png": "[encoded data removed]",
      "text/plain": [
       "<Figure size 432x288 with 1 Axes>"
      ]
     },
     "metadata": {
      "needs_background": "light"
     },
     "output_type": "display_data"
    },
    {
     "name": "stdout",
     "output_type": "stream",
     "text": [
      "noise+mask (256, 28, 28, 1)\n",
      "(256, 28, 28, 1)\n"
     ]
    },
    {
     "data": {
      "image/png": "[encoded data removed]",
      "text/plain": [
       "<Figure size 432x288 with 1 Axes>"
      ]
     },
     "metadata": {
      "needs_background": "light"
     },
     "output_type": "display_data"
    },
    {
     "data": {
      "image/png": "[encoded data removed]",
      "text/plain": [
       "<Figure size 432x288 with 1 Axes>"
      ]
     },
     "metadata": {
      "needs_background": "light"
     },
     "output_type": "display_data"
    },
    {
     "data": {
      "image/png": "[encoded data removed]",
      "text/plain": [
       "<Figure size 432x288 with 2 Axes>"
      ]
     },
     "metadata": {
      "needs_background": "light"
     },
     "output_type": "display_data"
    }
   ],
   "source": [
    "plot_path = params['plot_dir']+'/%d/'%num_mnist\n",
    "if not os.path.isdir(plot_path):\n",
    "    os.makedirs(plot_path)\n",
    "truth = x_test[num_mnist:num_mnist+1]\n",
    "truth = np.tile(truth, [params['batch_size'],1,1,1])\n",
    "plot_image(truth[0], directory=plot_path, filename='truth_%s'%label, title='truth')\n",
    "print(corr_type, truth.shape)\n",
    "data, custom_mask = make_corrupted_data(truth, corr_type=corr_type)\n",
    "print(data.shape)\n",
    "plot_image(data[0], directory=plot_path, filename='input_data_%s'%label, title='data')\n",
    "plot_image(custom_mask, directory=plot_path, filename='mask_data_%s'%label, title='mask')\n",
    "\n",
    "noise = get_custom_noise(data.shape, signal_dependent=False, signal=truth)\n",
    "plot_image(noise[0], directory=plot_path, filename='noise_%s'%label, title='noise', cmap='summer', colorbar=True)\n",
    "\n",
    "data = np.reshape(data,(-1,28*28,1))\n",
    "custom_mask = np.reshape(custom_mask,(28*28))"
   ]
  },
  {
   "cell_type": "code",
   "execution_count": null,
   "metadata": {},
   "outputs": [],
   "source": []
  },
  {
   "cell_type": "code",
   "execution_count": 10,
   "metadata": {
    "colab": {},
    "colab_type": "code",
    "id": "9TIQArTJHE87"
   },
   "outputs": [],
   "source": [
    "def fwd_pass(generator,nvp,z,mask):\n",
    "    \n",
    "    print(z)\n",
    "  \n",
    "    fwd_z           = nvp({'z_sample':np.zeros((1,hidden_size)),'sample_size':1, 'u_sample':z},as_dict=True)['fwd_pass']\n",
    "    \n",
    "    fwd_z           = generator({'z':z},as_dict=True)['x']\n",
    "    gen_z           = tf.boolean_mask(tf.reshape(fwd_z,[data_size,data_dim,n_channels]),mask, axis=1)\n",
    "\n",
    "    return gen_z\n",
    "\n",
    "\n",
    "\n",
    "\n",
    "def get_likelihood(generator,nvp,z,sigma,mask):\n",
    "  \n",
    "    gen_z           = fwd_pass(generator,nvp,z,mask)\n",
    "  \n",
    "    sigma           = tf.boolean_mask(sigma,mask, axis=1)\n",
    "\n",
    "    likelihood      = tfd.Independent(tfd.MultivariateNormalDiag(loc=gen_z,scale_diag=sigma))\n",
    "\n",
    "    return likelihood\n",
    "\n",
    "def get_prior():\n",
    "  \n",
    "  return tfd.MultivariateNormalDiag(tf.zeros([data_size,hidden_size]), scale_identity_multiplier=1.0, name ='prior')\n",
    "\n",
    "def get_log_posterior(z,x,generator,nvp,sigma,mask, beta):\n",
    "  \n",
    "  likelihood      = get_likelihood(generator,nvp,z,sigma,mask)\n",
    "  \n",
    "  prior           = get_prior()\n",
    "  \n",
    "  masked_x        = tf.boolean_mask(x,mask, axis=1)\n",
    "  \n",
    "  log_posterior   = prior.log_prob(z)+likelihood.log_prob(masked_x)*beta\n",
    "  \n",
    "  return log_posterior\n",
    "\n",
    "\n",
    "def get_recon(generator,nvp, z,sigma,mask):\n",
    "  \n",
    "  prob = get_likelihood(generator,nvp, z,sigma,mask)\n",
    "  \n",
    "  recon= prob.mean()\n",
    "  \n",
    "  return recon\n",
    "\n",
    "def get_hessian(func, z):\n",
    "  \n",
    "    hess             = tf.hessians(func,z)\n",
    "    hess             = tf.gather(hess, 0)\n",
    "  \n",
    "    return(tf.reduce_sum(hess, axis = 2 ))\n",
    "\n",
    "\n",
    "def get_GN_hessian(generator,nvp,z,mask,sigma):\n",
    "\n",
    "\n",
    "    gen_z            = fwd_pass(generator,nvp,z,mask)\n",
    "  \n",
    "    sigma            = tf.boolean_mask(sigma,mask, axis=1)\n",
    "\n",
    "    grad_g           = tf.gather(tf.gradients(gen_z/(sigma),z),0)\n",
    "\n",
    "    grad_g2          = tf.einsum('ij,ik->ijk',grad_g,grad_g)\n",
    "\n",
    "    one              = tf.linalg.eye(hidden_size, batch_shape=[data_size],dtype=tf.float32)\n",
    "\n",
    "    hess_GN          = one+grad_g2\n",
    "  \n",
    "    return hess_GN\n",
    "  \n",
    "def compute_covariance(hessian):\n",
    "  \n",
    "    hessian = transform_diagonal(hessian, None, 1e-4)\n",
    "    cov = tf.linalg.inv(hessian)\n",
    "  \n",
    "    cov = (cov+tf.linalg.transpose(cov))*0.5\n",
    "  \n",
    "    return cov"
   ]
  },
  {
   "cell_type": "code",
   "execution_count": null,
   "metadata": {},
   "outputs": [],
   "source": []
  },
  {
   "cell_type": "code",
   "execution_count": 11,
   "metadata": {
    "colab": {},
    "colab_type": "code",
    "id": "QGyi6PVWx1qd"
   },
   "outputs": [],
   "source": [
    "def minimize_posterior(initial_value, x, custom_mask, noise, my_sess, annealing =True):\n",
    "  \n",
    "    ini = np.reshape(initial_value,[data_size,hidden_size])\n",
    "\n",
    "    my_sess.run(MAP_reset,feed_dict={input_data: x, MAP_ini:ini, mask:custom_mask,sigma_corr:noise})\n",
    "\n",
    "    pos_def = False\n",
    "\n",
    "\n",
    "    posterior_loss = []\n",
    "    for lrate, numiter in zip([1e-1,1e-2,1e-3],[10000,12000,12000]):\n",
    "        print('lrate', lrate)\n",
    "        for jj in range(numiter):\n",
    "            if annealing and lrate==1e-1:\n",
    "                inv_T= np.round(0.5*np.exp(-(1.-jj/numiter)),decimals=1)\n",
    "            else:\n",
    "                inv_T= 1.\n",
    "            _, ll = my_sess.run([opt_op_MAP,loss_MAP],feed_dict={input_data: x, mask:custom_mask, sigma_corr:noise, lr: lrate, inverse_T:inv_T})\n",
    "            posterior_loss.append(ll)\n",
    "            if jj%1000==0:\n",
    "                print('iter', jj, 'loss', ll,r'inverse T', inv_T)\n",
    "\n",
    "    z_value = my_sess.run(MAP,feed_dict={input_data: x, mask:custom_mask, sigma_corr:noise})\n",
    "\n",
    "    eig     = my_sess.run(tf.linalg.eigvalsh(hessian[0]),feed_dict={input_data: x, mask:custom_mask,sigma_corr:noise})\n",
    "    hess    = my_sess.run(hessian[0],feed_dict={input_data: x, mask:custom_mask,sigma_corr:noise})\n",
    "    hessGN  = my_sess.run(hessian_GN[0],feed_dict={input_data: x, mask:custom_mask,sigma_corr:noise})\n",
    "    print('eig', eig)\n",
    "    if np.all(eig>0.):\n",
    "        pos_def = True\n",
    "\n",
    "    loss    = ll\n",
    "    plt.figure()\n",
    "    plt.plot(posterior_loss)\n",
    "    plt.ylabel('loss')\n",
    "    plt.xlabel('iteration')\n",
    "    plt.show()\n",
    "\n",
    "    return z_value, loss, pos_def, hess, hessGN\n",
    "  "
   ]
  },
  {
   "cell_type": "code",
   "execution_count": 12,
   "metadata": {
    "colab": {},
    "colab_type": "code",
    "id": "oiAie-wjUcHN"
   },
   "outputs": [],
   "source": [
    "def get_laplace_sample(num,map_value,x,mymask,noise,my_sess):\n",
    "  \n",
    "  my_sess.run(MAP_reset,feed_dict={MAP_ini:map_value})\n",
    "  my_sess.run(update_mu)\n",
    "  my_sess.run(update_TriL,feed_dict={input_data: x, mask: mymask, sigma_corr:noise})\n",
    "  \n",
    "  samples=[]\n",
    "  for ii in range(num):\n",
    "    my_sess.run(posterior_sample,feed_dict={input_data: x, sigma_corr:noise})\n",
    "    samples.append(my_sess.run(recon,feed_dict={input_data: x, sigma_corr:noise}))\n",
    "    \n",
    "  samples=np.asarray(samples)\n",
    "  return samples\n",
    "\n",
    "def get_gmm_sample(num,x,mymask,noise,my_sess):\n",
    "  \n",
    "  samples=[]\n",
    "  for ii in range(num):\n",
    "    samples.append(my_sess.run(gmm_recon,feed_dict={input_data: x, sigma_corr:noise}))\n",
    "    \n",
    "  samples=np.asarray(samples)\n",
    "  return samples"
   ]
  },
  {
   "cell_type": "code",
   "execution_count": 13,
   "metadata": {},
   "outputs": [],
   "source": [
    "def get_encoded(data, nvp, encoder):\n",
    "    data          = tf.reshape(data,(params['batch_size'],28,28,1))\n",
    "    encoded, _    = tf.split(encoder({'x':data},as_dict=True)['z'], 2, axis=-1)\n",
    "    encoded       = nvp({'z_sample':encoded,'sample_size':1, 'u_sample':np.zeros((1,hidden_size))},as_dict=True)['bwd_pass']\n",
    "    return encoded"
   ]
  },
  {
   "cell_type": "code",
   "execution_count": 14,
   "metadata": {
    "colab": {},
    "colab_type": "code",
    "id": "SXhLJToHcp7b"
   },
   "outputs": [],
   "source": [
    "def plot_samples(samples, mask, title='samples', filename='samples'):\n",
    "  plt.figure()\n",
    "  plt.title(title)\n",
    "  for i in range(min(len(samples),16)):\n",
    "      subplot(4,4,i+1)\n",
    "      imshow(np.reshape(samples[i,:],(28,28)),vmin=-0.2,vmax=1.2, cmap='gray')\n",
    "      axis('off')\n",
    "  plt.savefig(plot_path+filename+'.pdf',bbox_inches='tight')\n",
    "  plt.show()\n",
    "  \n",
    "  if corr_type in ['mask', 'sparse mask', 'noise+mask']:\n",
    "    plt.figure()\n",
    "    plt.title('masked'+title)\n",
    "    for i in range(min(len(samples),16)):\n",
    "        subplot(4,4,i+1)\n",
    "        imshow(np.reshape(samples[i,0,:,0]*mask,(28,28)),vmin=-0.2,vmax=1.2, cmap='gray')\n",
    "        axis('off')     \n",
    "    plt.savefig(plot_path+filename+'masked.pdf',bbox_inches='tight')\n",
    "    plt.show()"
   ]
  },
  {
   "cell_type": "code",
   "execution_count": 15,
   "metadata": {
    "colab": {},
    "colab_type": "code",
    "id": "LYAt6f7MQSpa"
   },
   "outputs": [],
   "source": [
    "def get_random_start_values(num, my_sess):\n",
    "  result=[]\n",
    "  for ii in range(num):\n",
    "    result.append(my_sess.run(get_prior().sample()))\n",
    "  return result"
   ]
  },
  {
   "cell_type": "code",
   "execution_count": 16,
   "metadata": {
    "colab": {},
    "colab_type": "code",
    "id": "BaFIFXBnQ3o-"
   },
   "outputs": [],
   "source": [
    "def get_chi2(sigma,data,mean,masking=True, mask=None,threshold=0.02):\n",
    "  \n",
    "  if masking:\n",
    "    mask = np.reshape(mask,data.shape)\n",
    "    data = data[np.where(mask==1)]\n",
    "    mean = mean[np.where(mask==1)]\n",
    "    sigma= sigma[np.where(mask==1)]\n",
    "    \n",
    "  \n",
    "  low = min(sigma.flatten())\n",
    "  high= max(sigma.flatten())\n",
    "  \n",
    "  chi2_tot = np.sum((data-mean)**2/sigma**2)\n",
    "  dof_tot  = len(np.squeeze(data))\n",
    "  \n",
    "  if corr_type not in ['noise','noise+mask']:\n",
    "    chi2_low = np.sum((data[np.where(data<=threshold)]-mean[np.where(data<=threshold)])**2/sigma[np.where(data<=threshold)]**2)\n",
    "    dof_low  = len(np.squeeze(data[np.where(data<=threshold)]))\n",
    "    chi2_high= np.sum((data[np.where(data>threshold)]-mean[np.where(data>threshold)])**2/sigma[np.where(data>threshold)]**2)\n",
    "    dof_high = len(np.squeeze(data[np.where(data>threshold)]))\n",
    "  else:\n",
    "    chi2_low = None\n",
    "    dof_low  = None\n",
    "    chi2_high= None\n",
    "    dof_high = None\n",
    "  \n",
    "  return chi2_tot, dof_tot, chi2_low, dof_low, chi2_high, dof_high, masking"
   ]
  },
  {
   "cell_type": "code",
   "execution_count": 17,
   "metadata": {
    "colab": {},
    "colab_type": "code",
    "id": "yGtEbpIZ2vhx"
   },
   "outputs": [],
   "source": [
    "def plot_minima(minima, losses, var):\n",
    "\n",
    "  plt.figure()\n",
    "  plt.title('Minimization result')\n",
    "  plt.plot(np.arange(len(losses)),losses,ls='',marker='o')\n",
    "  plt.xlabel('# iteration')\n",
    "  plt.ylabel('loss')\n",
    "  plt.savefig(plot_path+'minimzation_results_%s.pdf'%(label),bbox_inches='tight')\n",
    "  plt.show()\n",
    "  \n",
    "  colors = matplotlib.colors.Normalize(vmin=min(losses), vmax=max(losses))\n",
    "  cmap   = matplotlib.cm.get_cmap('Spectral')\n",
    "  \n",
    "  var = np.squeeze(var)\n",
    "  plt.figure()\n",
    "  plt.title('value of hidden variables at minima')\n",
    "  for ii in range(len(minima)):\n",
    "  \n",
    "    yerr_= np.sqrt(var[ii])\n",
    "\n",
    "    plt.errorbar(np.arange(hidden_size),np.squeeze(minima)[ii], marker='o',ls='', c=cmap(colors(losses[ii])), mew=0, yerr=yerr_, label ='%d'%losses[ii])\n",
    "  plt.legend(ncol=4, loc=(1.01,0))\n",
    "  plt.xlabel('# hidden variable')\n",
    "  plt.ylabel('value')\n",
    "  plt.savefig(plot_path+'hidden_values_at_minima_%s.pdf'%(label),bbox_inches='tight')\n",
    "  plt.show()"
   ]
  },
  {
   "cell_type": "code",
   "execution_count": 18,
   "metadata": {
    "colab": {},
    "colab_type": "code",
    "id": "qrZDSLzEIKrn"
   },
   "outputs": [],
   "source": [
    "def get_gmm_parameters(minima, x, noise, mymask, offset):\n",
    "  mu   =[]\n",
    "  w    =[]\n",
    "  sigma=[]\n",
    "  print(len(minima), num_comp)\n",
    "  for ii in range(num_comp):\n",
    "\n",
    "    # do Laplace approximation around this minimum\n",
    "    mu+=[minima[ii][0]]\n",
    "\n",
    "    sess.run(MAP_reset,feed_dict={MAP_ini:minima[ii]})\n",
    "    sigma+=[sess.run(update_TriL,feed_dict={input_data: x, sigma_corr:noise, mask: mymask})]\n",
    "\n",
    "    # correct weighting of different minima according to El20 procedure, with samples at the maxima and well seperated maxima\n",
    "    logdet  = sess.run(tf.linalg.logdet(covariance[0]),feed_dict={input_data: x, sigma_corr:noise, mask: mymask})\n",
    "    logprob = sess.run(nlPost_MAP,feed_dict={input_data: x, sigma_corr:noise, mask: mymask})\n",
    "    w+=[np.exp(0.5*logdet+logprob+offset)]\n",
    "  print(np.asarray(w).shape)\n",
    "  print('weights of Gaussian mixtures:', np.asarray(w)[:,0]/np.sum(np.asarray(w)[:,0]))\n",
    "  mu     = np.reshape(np.asarray(mu),[1,num_comp,hidden_size])\n",
    "  sigma  = np.reshape(np.asarray(sigma)[:,0],[1,num_comp,hidden_size,hidden_size])\n",
    "  w      = np.squeeze(np.asarray(w)[:,0])\n",
    "                         \n",
    "  return mu, sigma, w\n",
    "                                 "
   ]
  },
  {
   "cell_type": "code",
   "execution_count": 19,
   "metadata": {
    "colab": {},
    "colab_type": "code",
    "id": "gQXNNSN7TecV"
   },
   "outputs": [],
   "source": [
    "def plot_prob_2D_GMM(samples, indices):\n",
    "\n",
    "    samples = samples[:,0,:]\n",
    "\n",
    "    samples = np.hstack((np.expand_dims(samples[:,indices[0]],-1),np.expand_dims(samples[:,indices[1]],-1)))\n",
    "\n",
    "    figure=corner.corner(samples)\n",
    "    axes = np.array(figure.axes).reshape((2, 2))\n",
    "\n",
    "    axes[1,0].set_xlabel('latent space variable %d'%indices[0])\n",
    "    axes[1,0].set_ylabel('latent space variable %d'%indices[1])\n",
    "    plt.savefig(plot_path+'posterior_contour_GMM_%s_latent_space_dir_%d_%d.pdf'%(label,indices[0],indices[1]),bbox_inches='tight')\n",
    "    plt.show()\n",
    "    \n",
    "  "
   ]
  },
  {
   "cell_type": "code",
   "execution_count": 20,
   "metadata": {},
   "outputs": [],
   "source": [
    "def transform_diagonal(matrix, transform=tf.nn.softplus, add=0):\n",
    "  diag = tf.linalg.diag_part(matrix)\n",
    "  if transform is not None:\n",
    "    diag = transform(diag)\n",
    "  transformed_diag = diag+add\n",
    "  new_matrix = tf.linalg.set_diag(matrix, transformed_diag)\n",
    "  return new_matrix"
   ]
  },
  {
   "cell_type": "code",
   "execution_count": 21,
   "metadata": {
    "colab": {
     "base_uri": "https://localhost:8080/",
     "height": 353
    },
    "colab_type": "code",
    "executionInfo": {
     "elapsed": 14338,
     "status": "ok",
     "timestamp": 1558592190485,
     "user": {
      "displayName": "",
      "photoUrl": "",
      "userId": "18062987068597777273"
     },
     "user_tz": 420
    },
    "id": "yvTEYw44O_5q",
    "outputId": "31ee8455-c44d-493e-e04f-e1d42abffdf7"
   },
   "outputs": [
    {
     "name": "stdout",
     "output_type": "stream",
     "text": [
      "WARNING:tensorflow:From /global/homes/v/vboehm/.conda/envs/tf22/lib/python3.8/site-packages/tensorflow/python/ops/resource_variable_ops.py:1659: calling BaseResourceVariable.__init__ (from tensorflow.python.ops.resource_variable_ops) with constraint is deprecated and will be removed in a future version.\n",
      "Instructions for updating:\n",
      "If using Keras pass *_constraint arguments to layers.\n",
      "<tf.Variable 'Variable:0' shape=(256, 40) dtype=float32>\n",
      "INFO:tensorflow:Saver not created because there are no variables in the graph to restore\n",
      "INFO:tensorflow:Saver not created because there are no variables in the graph to restore\n",
      "WARNING:tensorflow:From /global/homes/v/vboehm/.conda/envs/tf22/lib/python3.8/site-packages/tensorflow/python/ops/linalg/linear_operator_diag.py:159: calling LinearOperator.__init__ (from tensorflow.python.ops.linalg.linear_operator) with graph_parents is deprecated and will be removed in a future version.\n",
      "Instructions for updating:\n",
      "Do not pass `graph_parents`.  They will  no longer be used.\n",
      "WARNING:tensorflow:From /global/homes/v/vboehm/.conda/envs/tf22/lib/python3.8/site-packages/tensorflow_probability/python/distributions/distribution.py:332: calling MultivariateNormalDiag.__init__ (from tensorflow_probability.python.distributions.mvn_diag) with scale_identity_multiplier is deprecated and will be removed after 2020-01-01.\n",
      "Instructions for updating:\n",
      "`scale_identity_multiplier` is deprecated; please combine it with `scale_diag` directly instead.\n",
      "<tf.Variable 'Variable:0' shape=(256, 40) dtype=float32>\n",
      "INFO:tensorflow:Saver not created because there are no variables in the graph to restore\n",
      "INFO:tensorflow:Saver not created because there are no variables in the graph to restore\n",
      "<tf.Variable 'Variable:0' shape=(256, 40) dtype=float32>\n",
      "INFO:tensorflow:Saver not created because there are no variables in the graph to restore\n",
      "INFO:tensorflow:Saver not created because there are no variables in the graph to restore\n",
      "INFO:tensorflow:Saver not created because there are no variables in the graph to restore\n",
      "INFO:tensorflow:Saver not created because there are no variables in the graph to restore\n",
      "WARNING:tensorflow:From /global/homes/v/vboehm/.conda/envs/tf22/lib/python3.8/site-packages/tensorflow_probability/python/distributions/distribution.py:332: MultivariateNormalFullCovariance.__init__ (from tensorflow_probability.python.distributions.mvn_full_covariance) is deprecated and will be removed after 2019-12-01.\n",
      "Instructions for updating:\n",
      "`MultivariateNormalFullCovariance` is deprecated, use `MultivariateNormalTriL(loc=loc, scale_tril=tf.linalg.cholesky(covariance_matrix))` instead.\n",
      "Tensor(\"MultivariateNormalFullCovariance_1/sample/MultivariateNormalFullCovariance_chain_of_MultivariateNormalFullCovariance_shift_of_MultivariateNormalFullCovariance_scale_matvec_linear_operator/forward/MultivariateNormalFullCovariance_shift/forward/add:0\", shape=(256, 40), dtype=float32)\n",
      "INFO:tensorflow:Saver not created because there are no variables in the graph to restore\n",
      "INFO:tensorflow:Saver not created because there are no variables in the graph to restore\n",
      "Tensor(\"Repeat/Reshape:0\", shape=(256, 40), dtype=float32)\n",
      "INFO:tensorflow:Saver not created because there are no variables in the graph to restore\n",
      "INFO:tensorflow:Saver not created because there are no variables in the graph to restore\n"
     ]
    }
   ],
   "source": [
    "tf.reset_default_graph()\n",
    "\n",
    "\n",
    "sigma_corr  = tf.placeholder_with_default(noise_n,shape=[1,data_dim,n_channels])\n",
    "mask        = tf.placeholder_with_default(np.ones([data_dim], dtype='float32'),shape=[data_dim])\n",
    "input_data  = tf.placeholder(shape=[data_size,data_dim,n_channels], dtype=tf.float32)\n",
    "\n",
    "inverse_T   = tf.placeholder_with_default(1., shape=[])\n",
    "lr          = tf.placeholder_with_default(0.001,shape=[])\n",
    "\n",
    "encoder     = hub.Module(encoder_path, trainable=False)\n",
    "generator   = hub.Module(generator_path, trainable=False)\n",
    "nvp_funcs   = hub.Module(nvp_path, trainable=False)\n",
    "\n",
    "MAP_ini     = tf.placeholder_with_default(tf.zeros([data_size,hidden_size]),shape=[data_size,hidden_size])\n",
    "MAP         = tf.Variable(MAP_ini)\n",
    "MAP_reset   = tf.stop_gradient(MAP.assign(MAP_ini))\n",
    "\n",
    "nlPost_MAP  = get_log_posterior(MAP, input_data, generator,nvp_funcs, sigma_corr,mask, inverse_T)\n",
    "loss_MAP    = -nlPost_MAP[0]\n",
    "\n",
    "optimizer   = tf.train.AdamOptimizer(learning_rate=lr)\n",
    "\n",
    "opt_op_MAP  = optimizer.minimize(loss_MAP, var_list=[MAP])\n",
    "\n",
    "recon_MAP   = get_recon(generator,nvp_funcs, MAP,sigma_corr,mask)\n",
    "\n",
    "hessian            = get_hessian(-nlPost_MAP,MAP)\n",
    "hessian_GN         = get_GN_hessian(generator,nvp_funcs,MAP,mask,sigma_corr)\n",
    "covariance         = compute_covariance(hessian_GN)\n",
    "variance           = tf.linalg.diag_part(covariance)[0]\n",
    "\n",
    "encoded            = get_encoded(input_data, nvp_funcs,encoder)\n",
    "\n",
    "\n",
    "approx_posterior_laplace = tfd.MultivariateNormalFullCovariance(loc=MAP[0],covariance_matrix=covariance[0])\n",
    "\n",
    "posterior_sample   = approx_posterior_laplace.sample(params['batch_size'])\n",
    "\n",
    "recon              = get_recon(generator,nvp_funcs, posterior_sample ,sigma_corr,mask)\n",
    "\n",
    "ini_val2    = np.ones((1,num_comp,(hidden_size *(hidden_size +1)) // 2),dtype=np.float32)\n",
    "with tf.variable_scope(\"corrupted/gmm\",reuse=tf.AUTO_REUSE):\n",
    "    mu_gmm      = tf.Variable(np.ones((1,num_comp,hidden_size)), dtype=np.float32)\n",
    "    sigma_gmm   = tf.Variable(tfp.math.fill_triangular(ini_val2))\n",
    "    w_gmm       = tf.Variable(np.ones((num_comp))/num_comp, dtype=np.float32)\n",
    "    sigma_gmmt    = transform_diagonal(sigma_gmm)\n",
    "w_positive    = tf.math.softplus(w_gmm)\n",
    "w_rescaled    = tf.squeeze(w_positive/tf.reduce_sum(w_positive))\n",
    "\n",
    "gmm           = tfd.MixtureSameFamily(mixture_distribution=tfd.Categorical(probs=w_rescaled),components_distribution=tfd.MultivariateNormalTriL(loc=mu_gmm,scale_tril=sigma_gmmt))\n",
    "\n",
    "mu_ini        = tf.placeholder_with_default(tf.zeros([1,num_comp,hidden_size]),shape=[1,num_comp,hidden_size])\n",
    "sigma_ini     = tf.placeholder_with_default(tf.ones([1,num_comp,hidden_size, hidden_size]),shape=[1,num_comp,hidden_size, hidden_size])\n",
    "w_ini         = tf.placeholder_with_default(tf.ones([num_comp])/num_comp,shape=[num_comp])\n",
    "\n",
    "update_w      = tf.stop_gradient(w_gmm.assign(tfp.math.softplus_inverse(w_ini)))\n",
    "update_mugmm  = tf.stop_gradient(mu_gmm.assign(mu_ini))\n",
    "update_TriLgmm= tf.stop_gradient(sigma_gmm.assign(transform_diagonal(sigma_ini)))\n",
    "\n",
    "gmm_sample    = gmm.sample()\n",
    "gmm_sample    = tf.repeat(gmm_sample, params['batch_size'], axis=0)\n",
    "# print(gmm_sample)\n",
    "gmm_recon     = get_recon(generator,nvp_funcs, gmm_sample ,sigma_corr,mask)\n"
   ]
  },
  {
   "cell_type": "code",
   "execution_count": 26,
   "metadata": {},
   "outputs": [],
   "source": [
    "minima_path = '../minimas/fmnist%d_flowVAE/'%num_mnist\n",
    "if not os.path.isdir(minima_path):\n",
    "    os.makedirs(minima_path)"
   ]
  },
  {
   "cell_type": "code",
   "execution_count": 29,
   "metadata": {},
   "outputs": [],
   "source": [
    "label_old='solidmask_2'\n",
    "#minima, min_loss, min_var,recons, hesss, hesssGN = pickle.load(open(minima_path+'minima_%s.pkl'%label_old,'rb'))"
   ]
  },
  {
   "cell_type": "code",
   "execution_count": 32,
   "metadata": {
    "colab": {
     "base_uri": "https://localhost:8080/",
     "height": 4721
    },
    "colab_type": "code",
    "executionInfo": {
     "elapsed": 131558,
     "status": "ok",
     "timestamp": 1558592307817,
     "user": {
      "displayName": "",
      "photoUrl": "",
      "userId": "18062987068597777273"
     },
     "user_tz": 420
    },
    "id": "Soh1tnGH1FTW",
    "outputId": "48802731-2a32-48fc-fd12-071300e5c583"
   },
   "outputs": [],
   "source": [
    "sess = tf.Session()\n",
    "sess.run(tf.global_variables_initializer())\n",
    "\n",
    "\n",
    "tf.random.set_random_seed(seed)\n",
    "\n",
    "\n",
    "try:\n",
    "    minima, min_loss, min_var,recons, hesss, hesssGN = pickle.load(open(minima_path+'minima_%s.pkl'%label_old,'rb'))\n",
    "except:\n",
    "    inits = get_random_start_values(20, sess)\n",
    "    minima  =[]\n",
    "    min_loss=[]\n",
    "    min_var =[]\n",
    "    recons  =[]\n",
    "    hesss   =[]\n",
    "    hesssGN =[]\n",
    "    for jj,init in enumerate(inits):\n",
    "        print('progress in %', jj/len(inits)*100)\n",
    "        min_z, min_l, pos_def,hess,hessGN = minimize_posterior(init, data,custom_mask,noise,sess)\n",
    "        rec                           = sess.run(recon_MAP, feed_dict={sigma_corr:noise})\n",
    "        var                           = sess.run(variance, feed_dict={input_data: data,mask:custom_mask,sigma_corr:noise})\n",
    "\n",
    "        plot_image(rec[0], directory=plot_path, filename='recon_%s_minimum%d'%(label,jj), title='reconstruction with loss %.1f'%min_l)\n",
    "        if pos_def:\n",
    "            print('hessian postive definite')\n",
    "            minima.append(min_z)\n",
    "            min_loss.append(min_l)\n",
    "            min_var.append(var)\n",
    "            recons.append(rec)\n",
    "            hesss.append(hess)\n",
    "            hesssGN.append(hessGN)\n",
    "\n",
    "    order    = np.argsort(min_loss)\n",
    "    min_loss = np.asarray(min_loss)[order]\n",
    "    minima   = np.asarray(minima)[order]\n",
    "    min_var  = np.asarray(min_var)[order]\n",
    "    hesss    = np.asarray(hesss)[order]\n",
    "    hesssGN  = np.asarray(hesssGN)[order]\n",
    "\n",
    "    pickle.dump([minima, min_loss, min_var,recons, hesss, hesssGN],open(minima_path+'minima_%s.pkl'%label,'wb'))\n",
    "  "
   ]
  },
  {
   "cell_type": "code",
   "execution_count": 33,
   "metadata": {},
   "outputs": [
    {
     "data": {
      "text/plain": [
       "(256, 28, 28, 1)"
      ]
     },
     "execution_count": 33,
     "metadata": {},
     "output_type": "execute_result"
    }
   ],
   "source": [
    "truth.shape"
   ]
  },
  {
   "cell_type": "code",
   "execution_count": 34,
   "metadata": {},
   "outputs": [
    {
     "name": "stdout",
     "output_type": "stream",
     "text": [
      "lrate 0.1\n",
      "iter 0 loss 5779.9316 inverse T 1.0\n",
      "iter 1000 loss -399.1344 inverse T 1.0\n",
      "iter 2000 loss -401.4627 inverse T 1.0\n",
      "iter 3000 loss -401.77936 inverse T 1.0\n",
      "iter 4000 loss -402.10223 inverse T 1.0\n",
      "iter 5000 loss -401.50983 inverse T 1.0\n",
      "iter 6000 loss -398.02753 inverse T 1.0\n",
      "iter 7000 loss -403.2774 inverse T 1.0\n",
      "iter 8000 loss -402.85907 inverse T 1.0\n",
      "iter 9000 loss -401.767 inverse T 1.0\n",
      "lrate 0.01\n",
      "iter 0 loss -398.22522 inverse T 1.0\n",
      "iter 1000 loss -406.91833 inverse T 1.0\n",
      "iter 2000 loss -406.7918 inverse T 1.0\n",
      "iter 3000 loss -406.4973 inverse T 1.0\n",
      "iter 4000 loss -406.69348 inverse T 1.0\n",
      "iter 5000 loss -406.39267 inverse T 1.0\n",
      "iter 6000 loss -406.70102 inverse T 1.0\n",
      "iter 7000 loss -406.61682 inverse T 1.0\n",
      "iter 8000 loss -406.38983 inverse T 1.0\n",
      "iter 9000 loss -406.44376 inverse T 1.0\n",
      "iter 10000 loss -406.65152 inverse T 1.0\n",
      "iter 11000 loss -406.73187 inverse T 1.0\n",
      "lrate 0.001\n",
      "iter 0 loss -406.6329 inverse T 1.0\n",
      "iter 1000 loss -407.01248 inverse T 1.0\n",
      "iter 2000 loss -407.03473 inverse T 1.0\n",
      "iter 3000 loss -407.03632 inverse T 1.0\n",
      "iter 4000 loss -407.03436 inverse T 1.0\n",
      "iter 5000 loss -407.0155 inverse T 1.0\n",
      "iter 6000 loss -407.01776 inverse T 1.0\n",
      "iter 7000 loss -407.03195 inverse T 1.0\n",
      "iter 8000 loss -407.03076 inverse T 1.0\n",
      "iter 9000 loss -407.0143 inverse T 1.0\n",
      "iter 10000 loss -407.02618 inverse T 1.0\n",
      "iter 11000 loss -406.99078 inverse T 1.0\n",
      "eig [1.11073291e+00 1.19289422e+00 1.46011913e+00 1.87521076e+00\n",
      " 2.35793662e+00 3.82611203e+00 4.79971647e+00 5.44347525e+00\n",
      " 9.33402252e+00 3.68264313e+01 2.18890335e+02 3.13392120e+02\n",
      " 3.62554810e+02 4.14159180e+02 4.45056030e+02 5.05579315e+02\n",
      " 5.72634521e+02 6.16638062e+02 6.87449402e+02 8.07438599e+02\n",
      " 8.48752136e+02 1.00969495e+03 1.15166553e+03 1.18989111e+03\n",
      " 1.26223303e+03 1.45792505e+03 1.56086597e+03 1.69096741e+03\n",
      " 1.98218420e+03 2.25877979e+03 2.32838257e+03 2.77347827e+03\n",
      " 3.00078906e+03 3.60553003e+03 3.86638501e+03 4.84299854e+03\n",
      " 5.40893604e+03 7.13342578e+03 8.80695508e+03 1.17005117e+04]\n"
     ]
    },
    {
     "data": {
      "image/png": "[encoded data removed]",
      "text/plain": [
       "<Figure size 432x288 with 1 Axes>"
      ]
     },
     "metadata": {
      "needs_background": "light"
     },
     "output_type": "display_data"
    },
    {
     "data": {
      "image/png": "[encoded data removed]",
      "text/plain": [
       "<Figure size 432x288 with 1 Axes>"
      ]
     },
     "metadata": {
      "needs_background": "light"
     },
     "output_type": "display_data"
    },
    {
     "data": {
      "text/plain": [
       "True"
      ]
     },
     "execution_count": 34,
     "metadata": {},
     "output_type": "execute_result"
    }
   ],
   "source": [
    "try:\n",
    "    min_z_, min_z_, min_l_, pos_def_,hess_,hessGN_ = pickle.load(open(minima_path+'minima_from_true_%s.pkl'%old_label,'rb'))\n",
    "except:\n",
    "    enc = sess.run(encoded, feed_dict={input_data: np.reshape(truth, (params['batch_size'],28*28,1))})\n",
    "    init= sess.run(MAP_reset, feed_dict={MAP_ini:enc})\n",
    "    min_z_, min_l_, pos_def_,hess_,hessGN_ = minimize_posterior(init,data,np.ones((28*28)),noise,sess,annealing =False)\n",
    "    pickle.dump([min_z_, min_z_, min_l_, pos_def_,hess_,hessGN_],open(minima_path+'minima_from_true_%s.pkl'%label,'wb'))\n",
    "    \n",
    "_ = sess.run(MAP_reset, feed_dict={MAP_ini:min_z_, sigma_corr:noise,input_data: data,sigma_corr:noise})\n",
    "recs     = sess.run(recon_MAP, feed_dict={MAP_ini:min_z_, sigma_corr:noise,input_data: data,sigma_corr:noise})\n",
    "plot_image(recs[0], directory=plot_path, filename='start_from_truth_reconstruction', title='reconstruction')"
   ]
  },
  {
   "cell_type": "code",
   "execution_count": 35,
   "metadata": {},
   "outputs": [
    {
     "name": "stdout",
     "output_type": "stream",
     "text": [
      "[-385.43143 -385.42462 -385.42236 -385.42166 -385.42096 -385.42072\n",
      " -385.41995 -385.41913 -385.41327 -385.4117  -385.40808 -376.90244\n",
      " -375.7011  -371.0994  -371.0788  -366.99725 -361.7317  -358.22043\n",
      " -345.4954 ]\n"
     ]
    },
    {
     "data": {
      "image/png": "[encoded data removed]",
      "text/plain": [
       "<Figure size 432x288 with 1 Axes>"
      ]
     },
     "metadata": {
      "needs_background": "light"
     },
     "output_type": "display_data"
    }
   ],
   "source": [
    "plt.scatter(np.arange(len(min_loss)),min_loss)\n",
    "\n",
    "print(min_loss)\n"
   ]
  },
  {
   "cell_type": "code",
   "execution_count": 36,
   "metadata": {},
   "outputs": [
    {
     "name": "stdout",
     "output_type": "stream",
     "text": [
      "[-385.43143 -385.42462 -385.42236 -385.42166 -385.42096 -385.42072\n",
      " -385.41995 -385.41913 -385.41327 -385.4117  -385.40808 -376.90244\n",
      " -375.7011  -371.0994  -371.0788  -366.99725 -361.7317  -358.22043\n",
      " -345.4954 ]\n"
     ]
    },
    {
     "data": {
      "image/png": "[encoded data removed]",
      "text/plain": [
       "<Figure size 432x288 with 1 Axes>"
      ]
     },
     "metadata": {
      "needs_background": "light"
     },
     "output_type": "display_data"
    }
   ],
   "source": [
    "plt.scatter(np.arange(len(min_loss)),min_loss)\n",
    "\n",
    "print(min_loss)"
   ]
  },
  {
   "cell_type": "code",
   "execution_count": 38,
   "metadata": {},
   "outputs": [
    {
     "data": {
      "image/png": "[encoded data removed]",
      "text/plain": [
       "<Figure size 432x288 with 1 Axes>"
      ]
     },
     "metadata": {
      "needs_background": "light"
     },
     "output_type": "display_data"
    },
    {
     "data": {
      "text/plain": [
       "True"
      ]
     },
     "execution_count": 38,
     "metadata": {},
     "output_type": "execute_result"
    }
   ],
   "source": [
    "try:\n",
    "    min_z_, min_z_, min_l_, pos_def_,hess_,hessGN_ = pickle.load(open(minima_path+'minima_unamortized_%s.pkl'%label_old,'rb'))\n",
    "except:\n",
    "    enc = sess.run(encoded, feed_dict={input_data: np.reshape(truth, (params['batch_size'],28*28,1))})\n",
    "    init= sess.run(MAP_reset, feed_dict={MAP_ini:enc})\n",
    "    min_z_, min_l_, pos_def_,hess_,hessGN_ = minimize_posterior(init,np.reshape(truth, (params['batch_size'],28*28,1)),np.ones((28*28)),noise,sess)\n",
    "    pickle.dump([min_z_, min_z_, min_l_, pos_def_,hess_,hessGN_],open(minima_path+'minima_unamortized_%s.pkl'%label,'wb'))\n",
    "    \n",
    "_ = sess.run(MAP_reset, feed_dict={MAP_ini:min_z_, sigma_corr:noise,input_data: data,sigma_corr:noise})\n",
    "recs     = sess.run(recon_MAP, feed_dict={MAP_ini:min_z_, sigma_corr:noise,input_data: data,sigma_corr:noise})\n",
    "plot_image(recs[0], directory=plot_path, filename='true_reconstruction', title='reconstruction')"
   ]
  },
  {
   "cell_type": "code",
   "execution_count": 39,
   "metadata": {},
   "outputs": [
    {
     "name": "stdout",
     "output_type": "stream",
     "text": [
      "385.43143 -214.51437 24278.174240112305\n",
      "385.42462 -214.81728 24278.015983581543\n",
      "385.42236 -214.29489 24278.27491760254\n",
      "385.42166 -213.81352 24278.51490020752\n",
      "385.42096 -214.11682 24278.362548828125\n",
      "385.42072 -213.19322 24278.824104309082\n",
      "385.41995 -214.18109 24278.32940673828\n",
      "385.41913 -214.71385 24278.062202453613\n",
      "385.41327 -213.23174 24278.797401428223\n",
      "385.4117 -213.6176 24278.602912902832\n",
      "385.40808 -214.84915 24277.983505249023\n",
      "376.90244 -217.31197 24268.246452331543\n",
      "375.7011 -212.78181 24269.310203552246\n",
      "371.0994 -217.4108 24262.393997192383\n",
      "371.0788 -218.50383 24261.82688140869\n",
      "366.99725 -212.2517 24260.871406555176\n",
      "361.7317 -213.7604 24254.851486206055\n",
      "358.22043 -217.45242 24249.494216918945\n",
      "345.4954 -220.7483 24235.121238708496\n",
      "[7.25881639e-02 6.19634903e-02 8.02766960e-02 1.02049906e-01\n",
      " 8.76288773e-02 1.39026710e-01 8.47722716e-02 6.48945872e-02\n",
      " 1.35363424e-01 1.11438700e-01 5.99833494e-02 3.54227702e-06\n",
      " 1.02627454e-05 1.01767849e-08 5.77305238e-09 2.22377540e-09\n",
      " 0.00000000e+00 0.00000000e+00 0.00000000e+00]\n"
     ]
    },
    {
     "data": {
      "image/png": "[encoded data removed]",
      "text/plain": [
       "<Figure size 432x288 with 1 Axes>"
      ]
     },
     "metadata": {
      "needs_background": "light"
     },
     "output_type": "display_data"
    }
   ],
   "source": [
    "w=[]\n",
    "ind = np.arange(len(min_loss))\n",
    "for ii in ind:\n",
    "    hess    = hesss[ii]\n",
    "    cov     = np.linalg.inv(hess)\n",
    "    _, logdet = np.linalg.slogdet(cov)\n",
    "    logprob   = -min_loss[ii]\n",
    "    print(logprob,logdet, 0.5*logdet+logprob+24000)\n",
    "    w+=[np.exp(0.5*logdet+logprob-1000)]\n",
    "w=np.asarray(w)/np.sum(np.asarray(w))\n",
    "print(w)\n",
    "index_gauss =np.sum(np.random.multinomial(1, w,500000),axis=0)\n",
    "_=plt.scatter(np.arange(len(index_gauss)),index_gauss/500000)\n",
    "samples = []\n",
    "for ii, n in enumerate(ind):\n",
    "    for jj in range(index_gauss[ii]):\n",
    "        cov = np.linalg.inv(hesss[n])\n",
    "        samples.append(np.dot(np.linalg.cholesky(cov),np.random.randn(params['latent_size']))+minima[n][0])\n",
    "samples=np.asarray(samples)"
   ]
  },
  {
   "cell_type": "code",
   "execution_count": 40,
   "metadata": {},
   "outputs": [],
   "source": [
    "np.random.shuffle(samples)"
   ]
  },
  {
   "cell_type": "code",
   "execution_count": 41,
   "metadata": {},
   "outputs": [
    {
     "data": {
      "text/plain": [
       "(500000, 40)"
      ]
     },
     "execution_count": 41,
     "metadata": {},
     "output_type": "execute_result"
    }
   ],
   "source": [
    "samples.shape"
   ]
  },
  {
   "cell_type": "code",
   "execution_count": 42,
   "metadata": {},
   "outputs": [
    {
     "data": {
      "image/png": "[encoded data removed]",
      "text/plain": [
       "<Figure size 360x360 with 25 Axes>"
      ]
     },
     "metadata": {
      "needs_background": "light"
     },
     "output_type": "display_data"
    }
   ],
   "source": [
    "ii       = 0\n",
    "_ = sess.run(MAP_reset, feed_dict={MAP_ini:samples[0:256], sigma_corr:noise,input_data: data,sigma_corr:noise})\n",
    "recs     = sess.run(recon_MAP, feed_dict={MAP_ini:samples[0:256], sigma_corr:noise,input_data: data,sigma_corr:noise})\n",
    "\n",
    "recs     = np.reshape(recs,(-1,28,28))+0.5\n",
    "  #plot_samples(recs+0.5, custom_mask, title='Samples from Laplace approximation', filename='samples_laplace_deepest_minimum_%s'%label)\n",
    "plt.figure(figsize=(5,5))\n",
    "for ii in range(25):\n",
    "    #plt.subplot(4,15,ii+1)\n",
    "    plt.subplot(5,5,ii+1)\n",
    "    plt.imshow((recs[ii]).reshape(28,28),cmap='gray')\n",
    "    plt.axis('off')\n",
    "# for ii in range(30):\n",
    "#     plt.subplot(4,15,30+ii+1)\n",
    "#     masked = recs[ii]\n",
    "#     masked[np.where(custom_mask.reshape(28,28)==0)]=0\n",
    "#     plt.imshow(masked,cmap='gray')\n",
    "#     plt.axis('off')\n",
    "# plt.tight_layout()\n",
    "plt.savefig(os.path.join(plot_path+'posterior_samples.pdf'),bbox_inches='tight')\n",
    "\n",
    "\n",
    "# plt.figure(figsize=(5,5))\n",
    "# for ii in range(32):\n",
    "#     plt.subplot(8,8,ii+1)\n",
    "\n",
    "#     plt.axis('off')\n",
    "#     plt.tight_layout()\n",
    "# plt.savefig(os.path.join(params['plot_dir']+'posterior_samples_maksed_example1.pdf'),bbox_inches='tight')"
   ]
  },
  {
   "cell_type": "code",
   "execution_count": null,
   "metadata": {},
   "outputs": [],
   "source": []
  },
  {
   "cell_type": "code",
   "execution_count": 43,
   "metadata": {},
   "outputs": [
    {
     "data": {
      "image/png": "[encoded data removed]",
      "text/plain": [
       "<Figure size 432x288 with 1 Axes>"
      ]
     },
     "metadata": {
      "needs_background": "light"
     },
     "output_type": "display_data"
    },
    {
     "data": {
      "text/plain": [
       "True"
      ]
     },
     "execution_count": 43,
     "metadata": {},
     "output_type": "execute_result"
    }
   ],
   "source": [
    "recs     = sess.run(MAP_reset, feed_dict={MAP_ini:minima[0], sigma_corr:noise,input_data: data,sigma_corr:noise})\n",
    "recs     = sess.run(recon_MAP, feed_dict={MAP_ini:minima[0], sigma_corr:noise,input_data: data,sigma_corr:noise})\n",
    "plot_image(recs[0], directory=plot_path, filename='best_reconstruction', title='best_reconstruction')"
   ]
  },
  {
   "cell_type": "code",
   "execution_count": null,
   "metadata": {},
   "outputs": [],
   "source": []
  },
  {
   "cell_type": "code",
   "execution_count": 44,
   "metadata": {},
   "outputs": [],
   "source": [
    "from mcmcplot import mcmcplot as mcp"
   ]
  },
  {
   "cell_type": "code",
   "execution_count": 45,
   "metadata": {},
   "outputs": [
    {
     "data": {
      "text/plain": [
       "(500000, 2)"
      ]
     },
     "execution_count": 45,
     "metadata": {},
     "output_type": "execute_result"
    }
   ],
   "source": [
    "samples_cut=np.vstack((samples[:,7],samples[:,5])).T\n",
    "samples_cut.shape"
   ]
  },
  {
   "cell_type": "code",
   "execution_count": 46,
   "metadata": {},
   "outputs": [
    {
     "data": {
      "image/png": "[encoded data removed]",
      "text/plain": [
       "<Figure size 432x432 with 3 Axes>"
      ]
     },
     "metadata": {
      "needs_background": "light"
     },
     "output_type": "display_data"
    }
   ],
   "source": [
    "fjd, used_settings = mcp.plot_joint_distributions(\n",
    "    chains=samples_cut,names=['', ''],\n",
    "    settings=None,\n",
    "    return_settings=True)\n",
    "a = fjd.ax_joint\n",
    "tmp = a.yaxis.get_label()\n",
    "tmp.set_fontsize(20)\n",
    "tmp = a.xaxis.get_label()\n",
    "tmp.set_fontsize(20)\n",
    "plt.savefig(os.path.join(plot_path+'distribution.pdf'),bbox_inches='tight')"
   ]
  },
  {
   "cell_type": "code",
   "execution_count": null,
   "metadata": {},
   "outputs": [],
   "source": []
  },
  {
   "cell_type": "code",
   "execution_count": null,
   "metadata": {},
   "outputs": [],
   "source": []
  },
  {
   "cell_type": "code",
   "execution_count": null,
   "metadata": {},
   "outputs": [],
   "source": []
  },
  {
   "cell_type": "code",
   "execution_count": null,
   "metadata": {},
   "outputs": [],
   "source": []
  }
 ],
 "metadata": {
  "accelerator": "GPU",
  "colab": {
   "collapsed_sections": [],
   "name": "ImageCorruptionMNIST-solidmask.ipynb",
   "provenance": [
    {
     "file_id": "1MNU95Mz_d__oADtBAIStGI4it5x7Bhld",
     "timestamp": 1568328262524
    },
    {
     "file_id": "1wol-99_eTQox1JzmLDi2Hkb85P1KMGhQ",
     "timestamp": 1558592479445
    },
    {
     "file_id": "1BC1IGBcqr_cxOcbE7jRtReUznBoGME_s",
     "timestamp": 1558470820075
    },
    {
     "file_id": "17TLFq9rlzJ3Sa6d4pbhhLlyEA-52Xi-L",
     "timestamp": 1558456554236
    },
    {
     "file_id": "",
     "timestamp": 1557532862331
    }
   ],
   "version": "0.3.2"
  },
  "kernelspec": {
   "display_name": "tf22",
   "language": "python",
   "name": "tf22"
  },
  "language_info": {
   "codemirror_mode": {
    "name": "ipython",
    "version": 3
   },
   "file_extension": ".py",
   "mimetype": "text/x-python",
   "name": "python",
   "nbconvert_exporter": "python",
   "pygments_lexer": "ipython3",
   "version": "3.8.3"
  }
 },
 "nbformat": 4,
 "nbformat_minor": 4
}
